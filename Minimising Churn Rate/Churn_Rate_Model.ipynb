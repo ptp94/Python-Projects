{
 "cells": [
  {
   "cell_type": "markdown",
   "metadata": {},
   "source": [
    "## Importing Libraries and New Data "
   ]
  },
  {
   "cell_type": "code",
   "execution_count": 1,
   "metadata": {},
   "outputs": [],
   "source": [
    "import numpy as np\n",
    "import pandas as pd\n",
    "import matplotlib.pyplot as plt\n",
    "import seaborn as sns\n",
    "import random"
   ]
  },
  {
   "cell_type": "markdown",
   "metadata": {},
   "source": [
    " "
   ]
  },
  {
   "cell_type": "code",
   "execution_count": 7,
   "metadata": {},
   "outputs": [],
   "source": [
    "dataset = pd.read_csv('newchurndata.csv')"
   ]
  },
  {
   "cell_type": "markdown",
   "metadata": {},
   "source": [
    "## Data Preparation"
   ]
  },
  {
   "cell_type": "code",
   "execution_count": 8,
   "metadata": {},
   "outputs": [],
   "source": [
    "user_identifier = dataset['user']"
   ]
  },
  {
   "cell_type": "code",
   "execution_count": 9,
   "metadata": {},
   "outputs": [],
   "source": [
    "dataset = dataset.drop(columns = ['user'])"
   ]
  },
  {
   "cell_type": "markdown",
   "metadata": {},
   "source": [
    "### One-Hot Encoding"
   ]
  },
  {
   "cell_type": "code",
   "execution_count": 11,
   "metadata": {},
   "outputs": [
    {
     "data": {
      "text/plain": [
       "na    13856\n",
       "R     10969\n",
       "O      2171\n",
       "Name: housing, dtype: int64"
      ]
     },
     "execution_count": 11,
     "metadata": {},
     "output_type": "execute_result"
    }
   ],
   "source": [
    "dataset.housing.value_counts() #Gives count of labels in the housing"
   ]
  },
  {
   "cell_type": "code",
   "execution_count": 12,
   "metadata": {},
   "outputs": [],
   "source": [
    "dataset = pd.get_dummies(dataset) #Running the Encoding"
   ]
  },
  {
   "cell_type": "code",
   "execution_count": 13,
   "metadata": {},
   "outputs": [
    {
     "data": {
      "text/plain": [
       "Index(['churn', 'age', 'deposits', 'withdrawal', 'purchases_partners',\n",
       "       'purchases', 'cc_taken', 'cc_recommended', 'cc_disliked', 'cc_liked',\n",
       "       'cc_application_begin', 'app_downloaded', 'web_user', 'ios_user',\n",
       "       'android_user', 'registered_phones', 'waiting_4_loan', 'cancelled_loan',\n",
       "       'received_loan', 'rejected_loan', 'left_for_two_month_plus',\n",
       "       'left_for_one_month', 'reward_rate', 'is_referred', 'housing_O',\n",
       "       'housing_R', 'housing_na', 'payment_type_Bi-Weekly',\n",
       "       'payment_type_Monthly', 'payment_type_Semi-Monthly',\n",
       "       'payment_type_Weekly', 'payment_type_na', 'zodiac_sign_Aquarius',\n",
       "       'zodiac_sign_Aries', 'zodiac_sign_Cancer', 'zodiac_sign_Capricorn',\n",
       "       'zodiac_sign_Gemini', 'zodiac_sign_Leo', 'zodiac_sign_Libra',\n",
       "       'zodiac_sign_Pisces', 'zodiac_sign_Sagittarius', 'zodiac_sign_Scorpio',\n",
       "       'zodiac_sign_Taurus', 'zodiac_sign_Virgo', 'zodiac_sign_na'],\n",
       "      dtype='object')"
      ]
     },
     "execution_count": 13,
     "metadata": {},
     "output_type": "execute_result"
    }
   ],
   "source": [
    "dataset.columns"
   ]
  },
  {
   "cell_type": "code",
   "execution_count": 14,
   "metadata": {},
   "outputs": [],
   "source": [
    "#Removing some columns to avoid Dummy Variable Trap\n",
    "dataset = dataset.drop(columns = ['housing_na', 'zodiac_sign_na', 'payment_type_na'])"
   ]
  },
  {
   "cell_type": "markdown",
   "metadata": {},
   "source": [
    "### Splitting Data into Training and Testing sets"
   ]
  },
  {
   "cell_type": "code",
   "execution_count": 15,
   "metadata": {},
   "outputs": [],
   "source": [
    "from sklearn.model_selection import train_test_split"
   ]
  },
  {
   "cell_type": "code",
   "execution_count": 16,
   "metadata": {},
   "outputs": [],
   "source": [
    "X_train, X_test, y_train, y_test = train_test_split(dataset.drop(columns = 'churn'),\n",
    "                                                    dataset['churn'], \n",
    "                                                    test_size=0.2,\n",
    "                                                    random_state=0)"
   ]
  },
  {
   "cell_type": "markdown",
   "metadata": {},
   "source": [
    "### Balancing the Training Set"
   ]
  },
  {
   "cell_type": "markdown",
   "metadata": {},
   "source": [
    "Suppose our model comes out to be 60% accurate. An issue with this could be because what if there are 60% zeros, 40% ones in the target/response variable and the model chooses data points with only zeros (bias), the accuracy will still remain at 60% as it will be guessing incorrectly. The model will be biased and so the exact origin will be harder to find. Post balancing, if the accuracy results in 50%, we are assured that it is the model that is failing rather than the dataset causing it."
   ]
  },
  {
   "cell_type": "markdown",
   "metadata": {},
   "source": [
    " "
   ]
  },
  {
   "cell_type": "code",
   "execution_count": 17,
   "metadata": {},
   "outputs": [],
   "source": [
    "positives = y_train[y_train == 1].index"
   ]
  },
  {
   "cell_type": "code",
   "execution_count": 21,
   "metadata": {},
   "outputs": [],
   "source": [
    "negatives = y_train[y_train == 0].index"
   ]
  },
  {
   "cell_type": "code",
   "execution_count": 22,
   "metadata": {},
   "outputs": [],
   "source": [
    "if len(positives) > len(negatives):\n",
    "    higher = positives\n",
    "    lower = negatives\n",
    "else:\n",
    "    higher = negatives\n",
    "    lower = positives"
   ]
  },
  {
   "cell_type": "code",
   "execution_count": 23,
   "metadata": {},
   "outputs": [],
   "source": [
    "random.seed(0)"
   ]
  },
  {
   "cell_type": "code",
   "execution_count": 24,
   "metadata": {},
   "outputs": [],
   "source": [
    "higher = np.random.choice(higher, size = len(lower)) #Randomly selects of higher indicies with a size of lower index"
   ]
  },
  {
   "cell_type": "code",
   "execution_count": 25,
   "metadata": {},
   "outputs": [],
   "source": [
    "lower = np.asarray(lower)"
   ]
  },
  {
   "cell_type": "code",
   "execution_count": 26,
   "metadata": {},
   "outputs": [],
   "source": [
    "new_indexes = np.concatenate((lower, higher)) "
   ]
  },
  {
   "cell_type": "code",
   "execution_count": 27,
   "metadata": {},
   "outputs": [],
   "source": [
    "X_train = X_train.loc[new_indexes, ]\n",
    "y_train = y_train[new_indexes]"
   ]
  },
  {
   "cell_type": "markdown",
   "metadata": {},
   "source": [
    "### Feature Scaling"
   ]
  },
  {
   "cell_type": "code",
   "execution_count": 29,
   "metadata": {},
   "outputs": [],
   "source": [
    "from sklearn.preprocessing import StandardScaler"
   ]
  },
  {
   "cell_type": "code",
   "execution_count": 30,
   "metadata": {},
   "outputs": [],
   "source": [
    "sc_X = StandardScaler()"
   ]
  },
  {
   "cell_type": "code",
   "execution_count": 31,
   "metadata": {},
   "outputs": [],
   "source": [
    "X_train2 = pd.DataFrame(sc_X.fit_transform(X_train)) #Convert it into dataframe as Standard Scaler returns a np array"
   ]
  },
  {
   "cell_type": "code",
   "execution_count": 32,
   "metadata": {},
   "outputs": [],
   "source": [
    "X_test2 = pd.DataFrame(sc_X.fit_transform(X_test))"
   ]
  },
  {
   "cell_type": "code",
   "execution_count": 33,
   "metadata": {},
   "outputs": [],
   "source": [
    "X_train2.columns = X_train.columns.values\n",
    "X_test2.columns = X_test.columns.values"
   ]
  },
  {
   "cell_type": "code",
   "execution_count": 34,
   "metadata": {},
   "outputs": [],
   "source": [
    "X_train2.index = X_train.index.values\n",
    "X_test2.index = X_test.index.values"
   ]
  },
  {
   "cell_type": "code",
   "execution_count": 35,
   "metadata": {},
   "outputs": [],
   "source": [
    "X_train = X_train2\n",
    "X_test = X_test2"
   ]
  },
  {
   "cell_type": "code",
   "execution_count": 38,
   "metadata": {},
   "outputs": [
    {
     "name": "stdout",
     "output_type": "stream",
     "text": [
      "            age  deposits  withdrawal  purchases_partners  purchases  \\\n",
      "11695 -0.615204 -0.360625   -0.280994           -0.592244  -0.360314   \n",
      "19766 -0.414404 -0.360625   -0.280994           -0.640878  -0.360314   \n",
      "8354   0.288398 -0.360625   -0.280994           -0.640878  -0.360314   \n",
      "17883  0.589599 -0.360625   -0.280994            0.040007  -0.360314   \n",
      "25149 -0.816005 -0.248236   -0.280994           -0.105897  -0.245756   \n",
      "\n",
      "       cc_taken  cc_recommended  cc_disliked  cc_liked  cc_application_begin  \\\n",
      "11695  -0.16876       -0.915942    -0.069078 -0.076114             -0.572453   \n",
      "19766  -0.16876        0.309287     1.367100 -0.076114             -0.572453   \n",
      "8354   -0.16876        1.988303    -0.069078 -0.076114             -0.244821   \n",
      "17883  -0.16876       -0.189880    -0.069078 -0.076114              0.000902   \n",
      "25149  -0.16876       -0.586945    -0.069078 -0.076114             -0.244821   \n",
      "\n",
      "       ...  zodiac_sign_Cancer  zodiac_sign_Capricorn  zodiac_sign_Gemini  \\\n",
      "11695  ...           -0.313281              -0.156227           -0.294615   \n",
      "19766  ...           -0.313281              -0.156227           -0.294615   \n",
      "8354   ...           -0.313281              -0.156227           -0.294615   \n",
      "17883  ...           -0.313281              -0.156227           -0.294615   \n",
      "25149  ...           -0.313281              -0.156227           -0.294615   \n",
      "\n",
      "       zodiac_sign_Leo  zodiac_sign_Libra  zodiac_sign_Pisces  \\\n",
      "11695        -0.308848          -0.296293           -0.292930   \n",
      "19766        -0.308848           3.375034           -0.292930   \n",
      "8354         -0.308848          -0.296293           -0.292930   \n",
      "17883        -0.308848          -0.296293           -0.292930   \n",
      "25149        -0.308848          -0.296293            3.413785   \n",
      "\n",
      "       zodiac_sign_Sagittarius  zodiac_sign_Scorpio  zodiac_sign_Taurus  \\\n",
      "11695                -0.287379            -0.290786           -0.298410   \n",
      "19766                -0.287379            -0.290786           -0.298410   \n",
      "8354                 -0.287379            -0.290786           -0.298410   \n",
      "17883                -0.287379            -0.290786            3.351093   \n",
      "25149                -0.287379            -0.290786           -0.298410   \n",
      "\n",
      "       zodiac_sign_Virgo  \n",
      "11695          -0.314786  \n",
      "19766          -0.314786  \n",
      "8354            3.176761  \n",
      "17883          -0.314786  \n",
      "25149          -0.314786  \n",
      "\n",
      "[5 rows x 41 columns]\n",
      "            age  deposits  withdrawal  purchases_partners  purchases  \\\n",
      "2834   0.004040  0.868055   -0.291026           -0.655340   0.894374   \n",
      "21018 -0.706304 -0.360500   -0.291026            2.488687  -0.360310   \n",
      "5590   1.526208  0.868055    1.672175           -0.680096   0.894374   \n",
      "15769  0.105518 -0.360500   -0.291026           -0.482047  -0.360310   \n",
      "15120 -1.010738  0.309621   -0.291026            3.206614   0.324063   \n",
      "\n",
      "       cc_taken  cc_recommended  cc_disliked  cc_liked  cc_application_begin  \\\n",
      "2834   2.335414        1.227740    -0.058114 -0.039498              1.861847   \n",
      "21018 -0.182804        1.693278    -0.058114 -0.039498             -0.406119   \n",
      "5590  -0.182804        0.421564     2.199566 -0.039498              2.185842   \n",
      "15769 -0.182804       -1.009114    -0.058114 -0.039498             -0.568116   \n",
      "15120 -0.182804        1.727342    -0.058114 -0.039498              2.104843   \n",
      "\n",
      "       ...  zodiac_sign_Cancer  zodiac_sign_Capricorn  zodiac_sign_Gemini  \\\n",
      "2834   ...           -0.329203              -0.170762           -0.295625   \n",
      "21018  ...           -0.329203              -0.170762            3.382661   \n",
      "5590   ...           -0.329203              -0.170762           -0.295625   \n",
      "15769  ...           -0.329203               5.856118           -0.295625   \n",
      "15120  ...           -0.329203              -0.170762           -0.295625   \n",
      "\n",
      "       zodiac_sign_Leo  zodiac_sign_Libra  zodiac_sign_Pisces  \\\n",
      "2834         -0.309123          -0.280929           -0.293025   \n",
      "21018        -0.309123          -0.280929           -0.293025   \n",
      "5590         -0.309123          -0.280929           -0.293025   \n",
      "15769        -0.309123          -0.280929           -0.293025   \n",
      "15120         3.234960          -0.280929           -0.293025   \n",
      "\n",
      "       zodiac_sign_Sagittarius  zodiac_sign_Scorpio  zodiac_sign_Taurus  \\\n",
      "2834                  3.584153            -0.285127           -0.304062   \n",
      "21018                -0.279006            -0.285127           -0.304062   \n",
      "5590                 -0.279006            -0.285127            3.288798   \n",
      "15769                -0.279006            -0.285127           -0.304062   \n",
      "15120                -0.279006            -0.285127           -0.304062   \n",
      "\n",
      "       zodiac_sign_Virgo  \n",
      "2834           -0.311275  \n",
      "21018          -0.311275  \n",
      "5590           -0.311275  \n",
      "15769          -0.311275  \n",
      "15120          -0.311275  \n",
      "\n",
      "[5 rows x 41 columns]\n"
     ]
    }
   ],
   "source": [
    "#Check\n",
    "print(X_train.head())\n",
    "print(X_test.head())"
   ]
  },
  {
   "cell_type": "markdown",
   "metadata": {},
   "source": [
    "# Model Building"
   ]
  },
  {
   "cell_type": "code",
   "execution_count": 39,
   "metadata": {},
   "outputs": [],
   "source": [
    "from sklearn.linear_model import LogisticRegression"
   ]
  },
  {
   "cell_type": "code",
   "execution_count": 40,
   "metadata": {},
   "outputs": [],
   "source": [
    "classifier = LogisticRegression(random_state = 0)"
   ]
  },
  {
   "cell_type": "code",
   "execution_count": 42,
   "metadata": {},
   "outputs": [
    {
     "name": "stderr",
     "output_type": "stream",
     "text": [
      "C:\\Users\\ptpar\\AppData\\Local\\Continuum\\anaconda3\\envs\\dslibs\\lib\\site-packages\\sklearn\\linear_model\\logistic.py:432: FutureWarning: Default solver will be changed to 'lbfgs' in 0.22. Specify a solver to silence this warning.\n",
      "  FutureWarning)\n"
     ]
    },
    {
     "data": {
      "text/plain": [
       "LogisticRegression(C=1.0, class_weight=None, dual=False, fit_intercept=True,\n",
       "                   intercept_scaling=1, l1_ratio=None, max_iter=100,\n",
       "                   multi_class='warn', n_jobs=None, penalty='l2',\n",
       "                   random_state=0, solver='warn', tol=0.0001, verbose=0,\n",
       "                   warm_start=False)"
      ]
     },
     "execution_count": 42,
     "metadata": {},
     "output_type": "execute_result"
    }
   ],
   "source": [
    "classifier.fit(X_train, y_train)"
   ]
  },
  {
   "cell_type": "markdown",
   "metadata": {},
   "source": [
    "### Predicting Test Set"
   ]
  },
  {
   "cell_type": "code",
   "execution_count": 44,
   "metadata": {},
   "outputs": [],
   "source": [
    "y_pred = classifier.predict(X_test)"
   ]
  },
  {
   "cell_type": "markdown",
   "metadata": {},
   "source": [
    "### Evaluating Results"
   ]
  },
  {
   "cell_type": "code",
   "execution_count": 45,
   "metadata": {},
   "outputs": [],
   "source": [
    "from sklearn.metrics import confusion_matrix, accuracy_score, f1_score, precision_score, recall_score"
   ]
  },
  {
   "cell_type": "code",
   "execution_count": 46,
   "metadata": {},
   "outputs": [],
   "source": [
    "conf_matrix = confusion_matrix(y_test, y_pred)\n",
    "accuracy = accuracy_score(y_test, y_pred)\n",
    "f1_sc = f1_score(y_test, y_pred)\n",
    "precision = precision_score(y_test, y_pred)\n",
    "recall_sc = recall_score(y_test, y_pred)"
   ]
  },
  {
   "cell_type": "code",
   "execution_count": 49,
   "metadata": {},
   "outputs": [
    {
     "name": "stdout",
     "output_type": "stream",
     "text": [
      "Accuracy: 0.604 \n",
      "f1 score: 0.612\n",
      "Precision: 0.514\n",
      "Recall score: 0.755\n"
     ]
    }
   ],
   "source": [
    "print(f\"Accuracy: {accuracy:.3f} \\nf1 score: {f1_sc:.3f}\\nPrecision: {precision:.3f}\\nRecall score: {recall_sc:.3f}\")"
   ]
  },
  {
   "cell_type": "markdown",
   "metadata": {},
   "source": [
    " "
   ]
  },
  {
   "cell_type": "code",
   "execution_count": 50,
   "metadata": {},
   "outputs": [
    {
     "data": {
      "text/plain": [
       "<matplotlib.axes._subplots.AxesSubplot at 0x1fbc3354a58>"
      ]
     },
     "execution_count": 50,
     "metadata": {},
     "output_type": "execute_result"
    },
    {
     "data": {
      "image/png": "[encoded data removed]",
      "text/plain": [
       "<matplotlib.figure.Figure at 0x1fbc3375d30>"
      ]
     },
     "metadata": {
      "needs_background": "light"
     },
     "output_type": "display_data"
    }
   ],
   "source": [
    "df_cm = pd.DataFrame(conf_matrix, index = (0, 1), columns = (0, 1))\n",
    "plt.figure(figsize = (10, 10))\n",
    "sns.set(font_scale = 1.5)\n",
    "sns.heatmap(df_cm, annot=True, fmt='g')"
   ]
  },
  {
   "cell_type": "markdown",
   "metadata": {},
   "source": [
    "### Cross Validation: K-Fold"
   ]
  },
  {
   "cell_type": "code",
   "execution_count": 51,
   "metadata": {},
   "outputs": [
    {
     "name": "stderr",
     "output_type": "stream",
     "text": [
      "C:\\Users\\ptpar\\AppData\\Local\\Continuum\\anaconda3\\envs\\dslibs\\lib\\site-packages\\sklearn\\linear_model\\logistic.py:432: FutureWarning: Default solver will be changed to 'lbfgs' in 0.22. Specify a solver to silence this warning.\n",
      "  FutureWarning)\n",
      "C:\\Users\\ptpar\\AppData\\Local\\Continuum\\anaconda3\\envs\\dslibs\\lib\\site-packages\\sklearn\\linear_model\\logistic.py:432: FutureWarning: Default solver will be changed to 'lbfgs' in 0.22. Specify a solver to silence this warning.\n",
      "  FutureWarning)\n",
      "C:\\Users\\ptpar\\AppData\\Local\\Continuum\\anaconda3\\envs\\dslibs\\lib\\site-packages\\sklearn\\linear_model\\logistic.py:432: FutureWarning: Default solver will be changed to 'lbfgs' in 0.22. Specify a solver to silence this warning.\n",
      "  FutureWarning)\n",
      "C:\\Users\\ptpar\\AppData\\Local\\Continuum\\anaconda3\\envs\\dslibs\\lib\\site-packages\\sklearn\\linear_model\\logistic.py:432: FutureWarning: Default solver will be changed to 'lbfgs' in 0.22. Specify a solver to silence this warning.\n",
      "  FutureWarning)\n",
      "C:\\Users\\ptpar\\AppData\\Local\\Continuum\\anaconda3\\envs\\dslibs\\lib\\site-packages\\sklearn\\linear_model\\logistic.py:432: FutureWarning: Default solver will be changed to 'lbfgs' in 0.22. Specify a solver to silence this warning.\n",
      "  FutureWarning)\n",
      "C:\\Users\\ptpar\\AppData\\Local\\Continuum\\anaconda3\\envs\\dslibs\\lib\\site-packages\\sklearn\\linear_model\\logistic.py:432: FutureWarning: Default solver will be changed to 'lbfgs' in 0.22. Specify a solver to silence this warning.\n",
      "  FutureWarning)\n",
      "C:\\Users\\ptpar\\AppData\\Local\\Continuum\\anaconda3\\envs\\dslibs\\lib\\site-packages\\sklearn\\linear_model\\logistic.py:432: FutureWarning: Default solver will be changed to 'lbfgs' in 0.22. Specify a solver to silence this warning.\n",
      "  FutureWarning)\n",
      "C:\\Users\\ptpar\\AppData\\Local\\Continuum\\anaconda3\\envs\\dslibs\\lib\\site-packages\\sklearn\\linear_model\\logistic.py:432: FutureWarning: Default solver will be changed to 'lbfgs' in 0.22. Specify a solver to silence this warning.\n",
      "  FutureWarning)\n",
      "C:\\Users\\ptpar\\AppData\\Local\\Continuum\\anaconda3\\envs\\dslibs\\lib\\site-packages\\sklearn\\linear_model\\logistic.py:432: FutureWarning: Default solver will be changed to 'lbfgs' in 0.22. Specify a solver to silence this warning.\n",
      "  FutureWarning)\n",
      "C:\\Users\\ptpar\\AppData\\Local\\Continuum\\anaconda3\\envs\\dslibs\\lib\\site-packages\\sklearn\\linear_model\\logistic.py:432: FutureWarning: Default solver will be changed to 'lbfgs' in 0.22. Specify a solver to silence this warning.\n",
      "  FutureWarning)\n"
     ]
    }
   ],
   "source": [
    "from sklearn.model_selection import cross_val_score\n",
    "accuracies = cross_val_score(estimator = classifier,\n",
    "                            X=X_train,\n",
    "                            y=y_train,\n",
    "                            cv=10)"
   ]
  },
  {
   "cell_type": "code",
   "execution_count": 52,
   "metadata": {},
   "outputs": [
    {
     "data": {
      "text/plain": [
       "0.6440156599552572"
      ]
     },
     "execution_count": 52,
     "metadata": {},
     "output_type": "execute_result"
    }
   ],
   "source": [
    "accuracies.mean()"
   ]
  },
  {
   "cell_type": "code",
   "execution_count": null,
   "metadata": {},
   "outputs": [],
   "source": []
  },
  {
   "cell_type": "markdown",
   "metadata": {},
   "source": [
    "### Analysing Coefficients"
   ]
  },
  {
   "cell_type": "code",
   "execution_count": 53,
   "metadata": {},
   "outputs": [
    {
     "data": {
      "text/html": [
       "<div>\n",
       "<style scoped>\n",
       "    .dataframe tbody tr th:only-of-type {\n",
       "        vertical-align: middle;\n",
       "    }\n",
       "\n",
       "    .dataframe tbody tr th {\n",
       "        vertical-align: top;\n",
       "    }\n",
       "\n",
       "    .dataframe thead th {\n",
       "        text-align: right;\n",
       "    }\n",
       "</style>\n",
       "<table border=\"1\" class=\"dataframe\">\n",
       "  <thead>\n",
       "    <tr style=\"text-align: right;\">\n",
       "      <th></th>\n",
       "      <th>features</th>\n",
       "      <th>coef</th>\n",
       "    </tr>\n",
       "  </thead>\n",
       "  <tbody>\n",
       "    <tr>\n",
       "      <td>0</td>\n",
       "      <td>age</td>\n",
       "      <td>-0.143193</td>\n",
       "    </tr>\n",
       "    <tr>\n",
       "      <td>1</td>\n",
       "      <td>deposits</td>\n",
       "      <td>0.480681</td>\n",
       "    </tr>\n",
       "    <tr>\n",
       "      <td>2</td>\n",
       "      <td>withdrawal</td>\n",
       "      <td>0.047216</td>\n",
       "    </tr>\n",
       "    <tr>\n",
       "      <td>3</td>\n",
       "      <td>purchases_partners</td>\n",
       "      <td>-0.716233</td>\n",
       "    </tr>\n",
       "    <tr>\n",
       "      <td>4</td>\n",
       "      <td>purchases</td>\n",
       "      <td>-0.633201</td>\n",
       "    </tr>\n",
       "    <tr>\n",
       "      <td>5</td>\n",
       "      <td>cc_taken</td>\n",
       "      <td>0.076052</td>\n",
       "    </tr>\n",
       "    <tr>\n",
       "      <td>6</td>\n",
       "      <td>cc_recommended</td>\n",
       "      <td>0.065023</td>\n",
       "    </tr>\n",
       "    <tr>\n",
       "      <td>7</td>\n",
       "      <td>cc_disliked</td>\n",
       "      <td>0.005332</td>\n",
       "    </tr>\n",
       "    <tr>\n",
       "      <td>8</td>\n",
       "      <td>cc_liked</td>\n",
       "      <td>-0.003822</td>\n",
       "    </tr>\n",
       "    <tr>\n",
       "      <td>9</td>\n",
       "      <td>cc_application_begin</td>\n",
       "      <td>0.045487</td>\n",
       "    </tr>\n",
       "    <tr>\n",
       "      <td>10</td>\n",
       "      <td>app_downloaded</td>\n",
       "      <td>-0.011695</td>\n",
       "    </tr>\n",
       "    <tr>\n",
       "      <td>11</td>\n",
       "      <td>web_user</td>\n",
       "      <td>0.111573</td>\n",
       "    </tr>\n",
       "    <tr>\n",
       "      <td>12</td>\n",
       "      <td>ios_user</td>\n",
       "      <td>0.125439</td>\n",
       "    </tr>\n",
       "    <tr>\n",
       "      <td>13</td>\n",
       "      <td>android_user</td>\n",
       "      <td>0.053397</td>\n",
       "    </tr>\n",
       "    <tr>\n",
       "      <td>14</td>\n",
       "      <td>registered_phones</td>\n",
       "      <td>0.086660</td>\n",
       "    </tr>\n",
       "    <tr>\n",
       "      <td>15</td>\n",
       "      <td>waiting_4_loan</td>\n",
       "      <td>-0.049971</td>\n",
       "    </tr>\n",
       "    <tr>\n",
       "      <td>16</td>\n",
       "      <td>cancelled_loan</td>\n",
       "      <td>0.088854</td>\n",
       "    </tr>\n",
       "    <tr>\n",
       "      <td>17</td>\n",
       "      <td>received_loan</td>\n",
       "      <td>0.099840</td>\n",
       "    </tr>\n",
       "    <tr>\n",
       "      <td>18</td>\n",
       "      <td>rejected_loan</td>\n",
       "      <td>0.090846</td>\n",
       "    </tr>\n",
       "    <tr>\n",
       "      <td>19</td>\n",
       "      <td>left_for_two_month_plus</td>\n",
       "      <td>0.046181</td>\n",
       "    </tr>\n",
       "    <tr>\n",
       "      <td>20</td>\n",
       "      <td>left_for_one_month</td>\n",
       "      <td>0.036094</td>\n",
       "    </tr>\n",
       "    <tr>\n",
       "      <td>21</td>\n",
       "      <td>reward_rate</td>\n",
       "      <td>-0.235533</td>\n",
       "    </tr>\n",
       "    <tr>\n",
       "      <td>22</td>\n",
       "      <td>is_referred</td>\n",
       "      <td>0.010628</td>\n",
       "    </tr>\n",
       "    <tr>\n",
       "      <td>23</td>\n",
       "      <td>housing_O</td>\n",
       "      <td>-0.044910</td>\n",
       "    </tr>\n",
       "    <tr>\n",
       "      <td>24</td>\n",
       "      <td>housing_R</td>\n",
       "      <td>0.016223</td>\n",
       "    </tr>\n",
       "    <tr>\n",
       "      <td>25</td>\n",
       "      <td>payment_type_Bi-Weekly</td>\n",
       "      <td>-0.049823</td>\n",
       "    </tr>\n",
       "    <tr>\n",
       "      <td>26</td>\n",
       "      <td>payment_type_Monthly</td>\n",
       "      <td>-0.037295</td>\n",
       "    </tr>\n",
       "    <tr>\n",
       "      <td>27</td>\n",
       "      <td>payment_type_Semi-Monthly</td>\n",
       "      <td>-0.037719</td>\n",
       "    </tr>\n",
       "    <tr>\n",
       "      <td>28</td>\n",
       "      <td>payment_type_Weekly</td>\n",
       "      <td>0.055818</td>\n",
       "    </tr>\n",
       "    <tr>\n",
       "      <td>29</td>\n",
       "      <td>zodiac_sign_Aquarius</td>\n",
       "      <td>-0.054985</td>\n",
       "    </tr>\n",
       "    <tr>\n",
       "      <td>30</td>\n",
       "      <td>zodiac_sign_Aries</td>\n",
       "      <td>0.008819</td>\n",
       "    </tr>\n",
       "    <tr>\n",
       "      <td>31</td>\n",
       "      <td>zodiac_sign_Cancer</td>\n",
       "      <td>-0.002076</td>\n",
       "    </tr>\n",
       "    <tr>\n",
       "      <td>32</td>\n",
       "      <td>zodiac_sign_Capricorn</td>\n",
       "      <td>0.031907</td>\n",
       "    </tr>\n",
       "    <tr>\n",
       "      <td>33</td>\n",
       "      <td>zodiac_sign_Gemini</td>\n",
       "      <td>-0.031542</td>\n",
       "    </tr>\n",
       "    <tr>\n",
       "      <td>34</td>\n",
       "      <td>zodiac_sign_Leo</td>\n",
       "      <td>-0.003213</td>\n",
       "    </tr>\n",
       "    <tr>\n",
       "      <td>35</td>\n",
       "      <td>zodiac_sign_Libra</td>\n",
       "      <td>-0.029534</td>\n",
       "    </tr>\n",
       "    <tr>\n",
       "      <td>36</td>\n",
       "      <td>zodiac_sign_Pisces</td>\n",
       "      <td>0.005725</td>\n",
       "    </tr>\n",
       "    <tr>\n",
       "      <td>37</td>\n",
       "      <td>zodiac_sign_Sagittarius</td>\n",
       "      <td>-0.008767</td>\n",
       "    </tr>\n",
       "    <tr>\n",
       "      <td>38</td>\n",
       "      <td>zodiac_sign_Scorpio</td>\n",
       "      <td>-0.017955</td>\n",
       "    </tr>\n",
       "    <tr>\n",
       "      <td>39</td>\n",
       "      <td>zodiac_sign_Taurus</td>\n",
       "      <td>-0.024284</td>\n",
       "    </tr>\n",
       "    <tr>\n",
       "      <td>40</td>\n",
       "      <td>zodiac_sign_Virgo</td>\n",
       "      <td>-0.004456</td>\n",
       "    </tr>\n",
       "  </tbody>\n",
       "</table>\n",
       "</div>"
      ],
      "text/plain": [
       "                     features      coef\n",
       "0                         age -0.143193\n",
       "1                    deposits  0.480681\n",
       "2                  withdrawal  0.047216\n",
       "3          purchases_partners -0.716233\n",
       "4                   purchases -0.633201\n",
       "5                    cc_taken  0.076052\n",
       "6              cc_recommended  0.065023\n",
       "7                 cc_disliked  0.005332\n",
       "8                    cc_liked -0.003822\n",
       "9        cc_application_begin  0.045487\n",
       "10             app_downloaded -0.011695\n",
       "11                   web_user  0.111573\n",
       "12                   ios_user  0.125439\n",
       "13               android_user  0.053397\n",
       "14          registered_phones  0.086660\n",
       "15             waiting_4_loan -0.049971\n",
       "16             cancelled_loan  0.088854\n",
       "17              received_loan  0.099840\n",
       "18              rejected_loan  0.090846\n",
       "19    left_for_two_month_plus  0.046181\n",
       "20         left_for_one_month  0.036094\n",
       "21                reward_rate -0.235533\n",
       "22                is_referred  0.010628\n",
       "23                  housing_O -0.044910\n",
       "24                  housing_R  0.016223\n",
       "25     payment_type_Bi-Weekly -0.049823\n",
       "26       payment_type_Monthly -0.037295\n",
       "27  payment_type_Semi-Monthly -0.037719\n",
       "28        payment_type_Weekly  0.055818\n",
       "29       zodiac_sign_Aquarius -0.054985\n",
       "30          zodiac_sign_Aries  0.008819\n",
       "31         zodiac_sign_Cancer -0.002076\n",
       "32      zodiac_sign_Capricorn  0.031907\n",
       "33         zodiac_sign_Gemini -0.031542\n",
       "34            zodiac_sign_Leo -0.003213\n",
       "35          zodiac_sign_Libra -0.029534\n",
       "36         zodiac_sign_Pisces  0.005725\n",
       "37    zodiac_sign_Sagittarius -0.008767\n",
       "38        zodiac_sign_Scorpio -0.017955\n",
       "39         zodiac_sign_Taurus -0.024284\n",
       "40          zodiac_sign_Virgo -0.004456"
      ]
     },
     "execution_count": 53,
     "metadata": {},
     "output_type": "execute_result"
    }
   ],
   "source": [
    "pd.concat([pd.DataFrame(X_train.columns, columns = ['features']),\n",
    "          pd.DataFrame(np.transpose(classifier.coef_), columns = ['coef'])],\n",
    "         axis = 1)"
   ]
  },
  {
   "cell_type": "code",
   "execution_count": null,
   "metadata": {},
   "outputs": [],
   "source": [
    " "
   ]
  },
  {
   "cell_type": "markdown",
   "metadata": {},
   "source": [
    "### Feature Selection"
   ]
  },
  {
   "cell_type": "markdown",
   "metadata": {},
   "source": [
    "We have seen above that certain columns influence the prediction more than others by noticing the higher coefficients"
   ]
  },
  {
   "cell_type": "code",
   "execution_count": 54,
   "metadata": {},
   "outputs": [],
   "source": [
    "from sklearn.feature_selection import RFE\n",
    "from sklearn.linear_model import LogisticRegression\n"
   ]
  },
  {
   "cell_type": "code",
   "execution_count": 55,
   "metadata": {},
   "outputs": [
    {
     "data": {
      "text/plain": [
       "(17880, 41)"
      ]
     },
     "execution_count": 55,
     "metadata": {},
     "output_type": "execute_result"
    }
   ],
   "source": [
    "X_train.shape"
   ]
  },
  {
   "cell_type": "code",
   "execution_count": 57,
   "metadata": {},
   "outputs": [
    {
     "name": "stderr",
     "output_type": "stream",
     "text": [
      "C:\\Users\\ptpar\\AppData\\Local\\Continuum\\anaconda3\\envs\\dslibs\\lib\\site-packages\\sklearn\\linear_model\\logistic.py:432: FutureWarning: Default solver will be changed to 'lbfgs' in 0.22. Specify a solver to silence this warning.\n",
      "  FutureWarning)\n",
      "C:\\Users\\ptpar\\AppData\\Local\\Continuum\\anaconda3\\envs\\dslibs\\lib\\site-packages\\sklearn\\linear_model\\logistic.py:432: FutureWarning: Default solver will be changed to 'lbfgs' in 0.22. Specify a solver to silence this warning.\n",
      "  FutureWarning)\n",
      "C:\\Users\\ptpar\\AppData\\Local\\Continuum\\anaconda3\\envs\\dslibs\\lib\\site-packages\\sklearn\\linear_model\\logistic.py:432: FutureWarning: Default solver will be changed to 'lbfgs' in 0.22. Specify a solver to silence this warning.\n",
      "  FutureWarning)\n",
      "C:\\Users\\ptpar\\AppData\\Local\\Continuum\\anaconda3\\envs\\dslibs\\lib\\site-packages\\sklearn\\linear_model\\logistic.py:432: FutureWarning: Default solver will be changed to 'lbfgs' in 0.22. Specify a solver to silence this warning.\n",
      "  FutureWarning)\n",
      "C:\\Users\\ptpar\\AppData\\Local\\Continuum\\anaconda3\\envs\\dslibs\\lib\\site-packages\\sklearn\\linear_model\\logistic.py:432: FutureWarning: Default solver will be changed to 'lbfgs' in 0.22. Specify a solver to silence this warning.\n",
      "  FutureWarning)\n",
      "C:\\Users\\ptpar\\AppData\\Local\\Continuum\\anaconda3\\envs\\dslibs\\lib\\site-packages\\sklearn\\linear_model\\logistic.py:432: FutureWarning: Default solver will be changed to 'lbfgs' in 0.22. Specify a solver to silence this warning.\n",
      "  FutureWarning)\n",
      "C:\\Users\\ptpar\\AppData\\Local\\Continuum\\anaconda3\\envs\\dslibs\\lib\\site-packages\\sklearn\\linear_model\\logistic.py:432: FutureWarning: Default solver will be changed to 'lbfgs' in 0.22. Specify a solver to silence this warning.\n",
      "  FutureWarning)\n",
      "C:\\Users\\ptpar\\AppData\\Local\\Continuum\\anaconda3\\envs\\dslibs\\lib\\site-packages\\sklearn\\linear_model\\logistic.py:432: FutureWarning: Default solver will be changed to 'lbfgs' in 0.22. Specify a solver to silence this warning.\n",
      "  FutureWarning)\n",
      "C:\\Users\\ptpar\\AppData\\Local\\Continuum\\anaconda3\\envs\\dslibs\\lib\\site-packages\\sklearn\\linear_model\\logistic.py:432: FutureWarning: Default solver will be changed to 'lbfgs' in 0.22. Specify a solver to silence this warning.\n",
      "  FutureWarning)\n",
      "C:\\Users\\ptpar\\AppData\\Local\\Continuum\\anaconda3\\envs\\dslibs\\lib\\site-packages\\sklearn\\linear_model\\logistic.py:432: FutureWarning: Default solver will be changed to 'lbfgs' in 0.22. Specify a solver to silence this warning.\n",
      "  FutureWarning)\n",
      "C:\\Users\\ptpar\\AppData\\Local\\Continuum\\anaconda3\\envs\\dslibs\\lib\\site-packages\\sklearn\\linear_model\\logistic.py:432: FutureWarning: Default solver will be changed to 'lbfgs' in 0.22. Specify a solver to silence this warning.\n",
      "  FutureWarning)\n",
      "C:\\Users\\ptpar\\AppData\\Local\\Continuum\\anaconda3\\envs\\dslibs\\lib\\site-packages\\sklearn\\linear_model\\logistic.py:432: FutureWarning: Default solver will be changed to 'lbfgs' in 0.22. Specify a solver to silence this warning.\n",
      "  FutureWarning)\n",
      "C:\\Users\\ptpar\\AppData\\Local\\Continuum\\anaconda3\\envs\\dslibs\\lib\\site-packages\\sklearn\\linear_model\\logistic.py:432: FutureWarning: Default solver will be changed to 'lbfgs' in 0.22. Specify a solver to silence this warning.\n",
      "  FutureWarning)\n",
      "C:\\Users\\ptpar\\AppData\\Local\\Continuum\\anaconda3\\envs\\dslibs\\lib\\site-packages\\sklearn\\linear_model\\logistic.py:432: FutureWarning: Default solver will be changed to 'lbfgs' in 0.22. Specify a solver to silence this warning.\n",
      "  FutureWarning)\n",
      "C:\\Users\\ptpar\\AppData\\Local\\Continuum\\anaconda3\\envs\\dslibs\\lib\\site-packages\\sklearn\\linear_model\\logistic.py:432: FutureWarning: Default solver will be changed to 'lbfgs' in 0.22. Specify a solver to silence this warning.\n",
      "  FutureWarning)\n",
      "C:\\Users\\ptpar\\AppData\\Local\\Continuum\\anaconda3\\envs\\dslibs\\lib\\site-packages\\sklearn\\linear_model\\logistic.py:432: FutureWarning: Default solver will be changed to 'lbfgs' in 0.22. Specify a solver to silence this warning.\n",
      "  FutureWarning)\n",
      "C:\\Users\\ptpar\\AppData\\Local\\Continuum\\anaconda3\\envs\\dslibs\\lib\\site-packages\\sklearn\\linear_model\\logistic.py:432: FutureWarning: Default solver will be changed to 'lbfgs' in 0.22. Specify a solver to silence this warning.\n",
      "  FutureWarning)\n",
      "C:\\Users\\ptpar\\AppData\\Local\\Continuum\\anaconda3\\envs\\dslibs\\lib\\site-packages\\sklearn\\linear_model\\logistic.py:432: FutureWarning: Default solver will be changed to 'lbfgs' in 0.22. Specify a solver to silence this warning.\n",
      "  FutureWarning)\n",
      "C:\\Users\\ptpar\\AppData\\Local\\Continuum\\anaconda3\\envs\\dslibs\\lib\\site-packages\\sklearn\\linear_model\\logistic.py:432: FutureWarning: Default solver will be changed to 'lbfgs' in 0.22. Specify a solver to silence this warning.\n",
      "  FutureWarning)\n",
      "C:\\Users\\ptpar\\AppData\\Local\\Continuum\\anaconda3\\envs\\dslibs\\lib\\site-packages\\sklearn\\linear_model\\logistic.py:432: FutureWarning: Default solver will be changed to 'lbfgs' in 0.22. Specify a solver to silence this warning.\n",
      "  FutureWarning)\n",
      "C:\\Users\\ptpar\\AppData\\Local\\Continuum\\anaconda3\\envs\\dslibs\\lib\\site-packages\\sklearn\\linear_model\\logistic.py:432: FutureWarning: Default solver will be changed to 'lbfgs' in 0.22. Specify a solver to silence this warning.\n",
      "  FutureWarning)\n",
      "C:\\Users\\ptpar\\AppData\\Local\\Continuum\\anaconda3\\envs\\dslibs\\lib\\site-packages\\sklearn\\linear_model\\logistic.py:432: FutureWarning: Default solver will be changed to 'lbfgs' in 0.22. Specify a solver to silence this warning.\n",
      "  FutureWarning)\n"
     ]
    }
   ],
   "source": [
    "classifier = LogisticRegression()\n",
    "rfe = RFE(classifier, 20)\n",
    "rfe = rfe.fit(X_train, y_train)"
   ]
  },
  {
   "cell_type": "markdown",
   "metadata": {},
   "source": [
    "#### Summarise the selected attributes"
   ]
  },
  {
   "cell_type": "code",
   "execution_count": 58,
   "metadata": {},
   "outputs": [
    {
     "name": "stdout",
     "output_type": "stream",
     "text": [
      "[ True  True  True  True  True  True  True False False  True False  True\n",
      "  True False  True  True  True  True  True  True False  True False  True\n",
      " False False False False  True  True False False False False False False\n",
      " False False False False False]\n"
     ]
    }
   ],
   "source": [
    "print(rfe.support_)"
   ]
  },
  {
   "cell_type": "code",
   "execution_count": 59,
   "metadata": {},
   "outputs": [
    {
     "data": {
      "text/plain": [
       "Index(['age', 'deposits', 'withdrawal', 'purchases_partners', 'purchases',\n",
       "       'cc_taken', 'cc_recommended', 'cc_application_begin', 'web_user',\n",
       "       'ios_user', 'registered_phones', 'waiting_4_loan', 'cancelled_loan',\n",
       "       'received_loan', 'rejected_loan', 'left_for_two_month_plus',\n",
       "       'reward_rate', 'housing_O', 'payment_type_Weekly',\n",
       "       'zodiac_sign_Aquarius'],\n",
       "      dtype='object')"
      ]
     },
     "execution_count": 59,
     "metadata": {},
     "output_type": "execute_result"
    }
   ],
   "source": [
    "X_train.columns[rfe.support_]"
   ]
  },
  {
   "cell_type": "code",
   "execution_count": 60,
   "metadata": {},
   "outputs": [
    {
     "data": {
      "text/plain": [
       "array([ 1,  1,  1,  1,  1,  1,  1, 18, 19,  1, 14,  1,  1,  2,  1,  1,  1,\n",
       "        1,  1,  1,  7,  1, 15,  1, 12,  4,  6,  5,  1,  1, 13, 22,  3,  8,\n",
       "       21,  9, 16, 17, 11, 10, 20])"
      ]
     },
     "execution_count": 60,
     "metadata": {},
     "output_type": "execute_result"
    }
   ],
   "source": [
    "rfe.ranking_"
   ]
  },
  {
   "cell_type": "markdown",
   "metadata": {},
   "source": [
    "### Re-evaluating the model"
   ]
  },
  {
   "cell_type": "code",
   "execution_count": 62,
   "metadata": {},
   "outputs": [
    {
     "name": "stderr",
     "output_type": "stream",
     "text": [
      "C:\\Users\\ptpar\\AppData\\Local\\Continuum\\anaconda3\\envs\\dslibs\\lib\\site-packages\\sklearn\\linear_model\\logistic.py:432: FutureWarning: Default solver will be changed to 'lbfgs' in 0.22. Specify a solver to silence this warning.\n",
      "  FutureWarning)\n"
     ]
    },
    {
     "name": "stdout",
     "output_type": "stream",
     "text": [
      "Accuracy: 0.605 \n",
      "f1 score: 0.614\n",
      "Precision: 0.516\n",
      "Recall score: 0.758\n"
     ]
    },
    {
     "data": {
      "image/png": "[encoded data removed]",
      "text/plain": [
       "<matplotlib.figure.Figure at 0x1fbc1f88ac8>"
      ]
     },
     "metadata": {},
     "output_type": "display_data"
    }
   ],
   "source": [
    "from sklearn.linear_model import LogisticRegression\n",
    "classifier = LogisticRegression(random_state = 0)\n",
    "\n",
    "classifier.fit(X_train[X_train.columns[rfe.support_]], y_train)\n",
    "\n",
    "y_pred1 = classifier.predict(X_test[X_test.columns[rfe.support_]])\n",
    "\n",
    "from sklearn.metrics import confusion_matrix, accuracy_score, f1_score, precision_score, recall_score\n",
    "\n",
    "conf_matrix1 = confusion_matrix(y_test, y_pred1)\n",
    "accuracy = accuracy_score(y_test, y_pred1)\n",
    "f1_sc = f1_score(y_test, y_pred1)\n",
    "precision = precision_score(y_test, y_pred1)\n",
    "recall_sc = recall_score(y_test, y_pred1)\n",
    "\n",
    "df_cm1 = pd.DataFrame(conf_matrix1, index = (0, 1), columns = (0, 1))\n",
    "plt.figure(figsize = (10, 10))\n",
    "sns.set(font_scale = 1.5)\n",
    "sns.heatmap(df_cm1, annot=True, fmt='g')\n",
    "print(f\"Accuracy: {accuracy:.3f} \\nf1 score: {f1_sc:.3f}\\nPrecision: {precision:.3f}\\nRecall score: {recall_sc:.3f}\")"
   ]
  },
  {
   "cell_type": "markdown",
   "metadata": {},
   "source": [
    "### Re-analysing Coefficients"
   ]
  },
  {
   "cell_type": "code",
   "execution_count": 63,
   "metadata": {},
   "outputs": [
    {
     "data": {
      "text/html": [
       "<div>\n",
       "<style scoped>\n",
       "    .dataframe tbody tr th:only-of-type {\n",
       "        vertical-align: middle;\n",
       "    }\n",
       "\n",
       "    .dataframe tbody tr th {\n",
       "        vertical-align: top;\n",
       "    }\n",
       "\n",
       "    .dataframe thead th {\n",
       "        text-align: right;\n",
       "    }\n",
       "</style>\n",
       "<table border=\"1\" class=\"dataframe\">\n",
       "  <thead>\n",
       "    <tr style=\"text-align: right;\">\n",
       "      <th></th>\n",
       "      <th>features</th>\n",
       "      <th>coef</th>\n",
       "    </tr>\n",
       "  </thead>\n",
       "  <tbody>\n",
       "    <tr>\n",
       "      <td>0</td>\n",
       "      <td>age</td>\n",
       "      <td>-0.145920</td>\n",
       "    </tr>\n",
       "    <tr>\n",
       "      <td>1</td>\n",
       "      <td>deposits</td>\n",
       "      <td>0.480761</td>\n",
       "    </tr>\n",
       "    <tr>\n",
       "      <td>2</td>\n",
       "      <td>withdrawal</td>\n",
       "      <td>0.049450</td>\n",
       "    </tr>\n",
       "    <tr>\n",
       "      <td>3</td>\n",
       "      <td>purchases_partners</td>\n",
       "      <td>-0.709750</td>\n",
       "    </tr>\n",
       "    <tr>\n",
       "      <td>4</td>\n",
       "      <td>purchases</td>\n",
       "      <td>-0.633634</td>\n",
       "    </tr>\n",
       "    <tr>\n",
       "      <td>5</td>\n",
       "      <td>cc_taken</td>\n",
       "      <td>0.080420</td>\n",
       "    </tr>\n",
       "    <tr>\n",
       "      <td>6</td>\n",
       "      <td>cc_recommended</td>\n",
       "      <td>0.071055</td>\n",
       "    </tr>\n",
       "    <tr>\n",
       "      <td>7</td>\n",
       "      <td>cc_application_begin</td>\n",
       "      <td>0.050977</td>\n",
       "    </tr>\n",
       "    <tr>\n",
       "      <td>8</td>\n",
       "      <td>web_user</td>\n",
       "      <td>0.111619</td>\n",
       "    </tr>\n",
       "    <tr>\n",
       "      <td>9</td>\n",
       "      <td>ios_user</td>\n",
       "      <td>0.080378</td>\n",
       "    </tr>\n",
       "    <tr>\n",
       "      <td>10</td>\n",
       "      <td>registered_phones</td>\n",
       "      <td>0.095063</td>\n",
       "    </tr>\n",
       "    <tr>\n",
       "      <td>11</td>\n",
       "      <td>waiting_4_loan</td>\n",
       "      <td>-0.050023</td>\n",
       "    </tr>\n",
       "    <tr>\n",
       "      <td>12</td>\n",
       "      <td>cancelled_loan</td>\n",
       "      <td>0.089013</td>\n",
       "    </tr>\n",
       "    <tr>\n",
       "      <td>13</td>\n",
       "      <td>received_loan</td>\n",
       "      <td>0.098019</td>\n",
       "    </tr>\n",
       "    <tr>\n",
       "      <td>14</td>\n",
       "      <td>rejected_loan</td>\n",
       "      <td>0.090294</td>\n",
       "    </tr>\n",
       "    <tr>\n",
       "      <td>15</td>\n",
       "      <td>left_for_two_month_plus</td>\n",
       "      <td>0.043036</td>\n",
       "    </tr>\n",
       "    <tr>\n",
       "      <td>16</td>\n",
       "      <td>reward_rate</td>\n",
       "      <td>-0.231504</td>\n",
       "    </tr>\n",
       "    <tr>\n",
       "      <td>17</td>\n",
       "      <td>housing_O</td>\n",
       "      <td>-0.048944</td>\n",
       "    </tr>\n",
       "    <tr>\n",
       "      <td>18</td>\n",
       "      <td>payment_type_Weekly</td>\n",
       "      <td>0.090588</td>\n",
       "    </tr>\n",
       "    <tr>\n",
       "      <td>19</td>\n",
       "      <td>zodiac_sign_Aquarius</td>\n",
       "      <td>-0.046715</td>\n",
       "    </tr>\n",
       "  </tbody>\n",
       "</table>\n",
       "</div>"
      ],
      "text/plain": [
       "                   features      coef\n",
       "0                       age -0.145920\n",
       "1                  deposits  0.480761\n",
       "2                withdrawal  0.049450\n",
       "3        purchases_partners -0.709750\n",
       "4                 purchases -0.633634\n",
       "5                  cc_taken  0.080420\n",
       "6            cc_recommended  0.071055\n",
       "7      cc_application_begin  0.050977\n",
       "8                  web_user  0.111619\n",
       "9                  ios_user  0.080378\n",
       "10        registered_phones  0.095063\n",
       "11           waiting_4_loan -0.050023\n",
       "12           cancelled_loan  0.089013\n",
       "13            received_loan  0.098019\n",
       "14            rejected_loan  0.090294\n",
       "15  left_for_two_month_plus  0.043036\n",
       "16              reward_rate -0.231504\n",
       "17                housing_O -0.048944\n",
       "18      payment_type_Weekly  0.090588\n",
       "19     zodiac_sign_Aquarius -0.046715"
      ]
     },
     "execution_count": 63,
     "metadata": {},
     "output_type": "execute_result"
    }
   ],
   "source": [
    "pd.concat([pd.DataFrame(X_train.columns[rfe.support_], columns = ['features']),\n",
    "          pd.DataFrame(np.transpose(classifier.coef_), columns = ['coef'])],\n",
    "         axis = 1)"
   ]
  },
  {
   "cell_type": "markdown",
   "metadata": {},
   "source": [
    "# Final Result"
   ]
  },
  {
   "cell_type": "code",
   "execution_count": 65,
   "metadata": {},
   "outputs": [],
   "source": [
    "final_results = pd.concat([y_test, user_identifier], axis = 1).dropna()\n",
    "final_results['Predicted_Churn'] = y_pred1\n",
    "final_results = final_results[['user', 'churn', 'Predicted_Churn']]"
   ]
  },
  {
   "cell_type": "code",
   "execution_count": 66,
   "metadata": {},
   "outputs": [
    {
     "data": {
      "text/html": [
       "<div>\n",
       "<style scoped>\n",
       "    .dataframe tbody tr th:only-of-type {\n",
       "        vertical-align: middle;\n",
       "    }\n",
       "\n",
       "    .dataframe tbody tr th {\n",
       "        vertical-align: top;\n",
       "    }\n",
       "\n",
       "    .dataframe thead th {\n",
       "        text-align: right;\n",
       "    }\n",
       "</style>\n",
       "<table border=\"1\" class=\"dataframe\">\n",
       "  <thead>\n",
       "    <tr style=\"text-align: right;\">\n",
       "      <th></th>\n",
       "      <th>user</th>\n",
       "      <th>churn</th>\n",
       "      <th>Predicted_Churn</th>\n",
       "    </tr>\n",
       "  </thead>\n",
       "  <tbody>\n",
       "    <tr>\n",
       "      <td>4</td>\n",
       "      <td>61353</td>\n",
       "      <td>1.0</td>\n",
       "      <td>1</td>\n",
       "    </tr>\n",
       "    <tr>\n",
       "      <td>7</td>\n",
       "      <td>67679</td>\n",
       "      <td>0.0</td>\n",
       "      <td>0</td>\n",
       "    </tr>\n",
       "    <tr>\n",
       "      <td>8</td>\n",
       "      <td>21269</td>\n",
       "      <td>0.0</td>\n",
       "      <td>0</td>\n",
       "    </tr>\n",
       "    <tr>\n",
       "      <td>18</td>\n",
       "      <td>69531</td>\n",
       "      <td>0.0</td>\n",
       "      <td>1</td>\n",
       "    </tr>\n",
       "    <tr>\n",
       "      <td>22</td>\n",
       "      <td>25997</td>\n",
       "      <td>0.0</td>\n",
       "      <td>0</td>\n",
       "    </tr>\n",
       "    <tr>\n",
       "      <td>...</td>\n",
       "      <td>...</td>\n",
       "      <td>...</td>\n",
       "      <td>...</td>\n",
       "    </tr>\n",
       "    <tr>\n",
       "      <td>26982</td>\n",
       "      <td>22377</td>\n",
       "      <td>0.0</td>\n",
       "      <td>1</td>\n",
       "    </tr>\n",
       "    <tr>\n",
       "      <td>26991</td>\n",
       "      <td>24291</td>\n",
       "      <td>1.0</td>\n",
       "      <td>1</td>\n",
       "    </tr>\n",
       "    <tr>\n",
       "      <td>26993</td>\n",
       "      <td>23740</td>\n",
       "      <td>0.0</td>\n",
       "      <td>1</td>\n",
       "    </tr>\n",
       "    <tr>\n",
       "      <td>26994</td>\n",
       "      <td>47663</td>\n",
       "      <td>1.0</td>\n",
       "      <td>0</td>\n",
       "    </tr>\n",
       "    <tr>\n",
       "      <td>26995</td>\n",
       "      <td>52752</td>\n",
       "      <td>1.0</td>\n",
       "      <td>1</td>\n",
       "    </tr>\n",
       "  </tbody>\n",
       "</table>\n",
       "<p>5400 rows × 3 columns</p>\n",
       "</div>"
      ],
      "text/plain": [
       "        user  churn  Predicted_Churn\n",
       "4      61353    1.0                1\n",
       "7      67679    0.0                0\n",
       "8      21269    0.0                0\n",
       "18     69531    0.0                1\n",
       "22     25997    0.0                0\n",
       "...      ...    ...              ...\n",
       "26982  22377    0.0                1\n",
       "26991  24291    1.0                1\n",
       "26993  23740    0.0                1\n",
       "26994  47663    1.0                0\n",
       "26995  52752    1.0                1\n",
       "\n",
       "[5400 rows x 3 columns]"
      ]
     },
     "execution_count": 66,
     "metadata": {},
     "output_type": "execute_result"
    }
   ],
   "source": [
    "final_results"
   ]
  },
  {
   "cell_type": "markdown",
   "metadata": {},
   "source": [
    " "
   ]
  },
  {
   "cell_type": "markdown",
   "metadata": {},
   "source": [
    "# Conclusion"
   ]
  },
  {
   "cell_type": "markdown",
   "metadata": {},
   "source": [
    "- Our model has provided us with an idea of which users are likely to churn. We have purposefully left the date of the expected churn open-ended because we are only focusing on gauging the features that indicate disengagement with the product and not the timeframe in which they will stop interacting. \n",
    "\n",
    "\n",
    "- If we want to transition into predicting churn more accurately, we can add a new dimension of time so we can specifically tailor to those who will leave the product."
   ]
  }
 ],
 "metadata": {
  "kernelspec": {
   "display_name": "Python 3",
   "language": "python",
   "name": "python3"
  },
  "language_info": {
   "codemirror_mode": {
    "name": "ipython",
    "version": 3
   },
   "file_extension": ".py",
   "mimetype": "text/x-python",
   "name": "python",
   "nbconvert_exporter": "python",
   "pygments_lexer": "ipython3",
   "version": "3.7.3"
  }
 },
 "nbformat": 4,
 "nbformat_minor": 2
}
